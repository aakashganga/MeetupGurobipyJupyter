{
 "cells": [
  {
   "cell_type": "code",
   "execution_count": 1,
   "metadata": {},
   "outputs": [
    {
     "data": {
      "text/plain": [
       "<gurobi.Constr *Awaiting Model Update*>"
      ]
     },
     "execution_count": 1,
     "metadata": {},
     "output_type": "execute_result"
    }
   ],
   "source": [
    "# imports\n",
    "from gurobipy import *\n",
    "m = Model('knapsack')\n",
    "\n",
    "# data \n",
    "item = [\"AfricanGrey\", \"CalicoCat\", \"Clock\", \"Laptop\", \n",
    "        \"Painting\", \"TV\", \"KeurigMachine\", \"MiniaturePincher\"]\n",
    "w= dict(zip(item,[5,8,3,3,1,7,5,7]))\n",
    "v=dict(zip(item, [1200, 900, 100, 800, 400, 325, 250, 400]))\n",
    "t=dict(zip(item, [2,6,1,1,3,4,2,1]))\n",
    "\n",
    "# decision variables\n",
    "x = m.addVars(item, vtype=GRB.BINARY, name=\"Steal\")\n",
    "\n",
    "# objective function\n",
    "m.setObjective(x.prod(v), sense=GRB.MAXIMIZE)\n",
    "\n",
    "# constraints\n",
    "m.addConstr(x.prod(w)<=20)\n",
    "m.addConstr(x.prod(t)<=10)\n",
    "m.addConstr(x[\"AfricanGrey\"] + x[\"CalicoCat\"]<=1)"
   ]
  },
  {
   "cell_type": "code",
   "execution_count": 2,
   "metadata": {},
   "outputs": [
    {
     "name": "stdout",
     "output_type": "stream",
     "text": [
      "Optimize a model with 3 rows, 8 columns and 18 nonzeros\n",
      "Variable types: 0 continuous, 8 integer (8 binary)\n",
      "Coefficient statistics:\n",
      "  Matrix range     [1e+00, 8e+00]\n",
      "  Objective range  [1e+02, 1e+03]\n",
      "  Bounds range     [1e+00, 1e+00]\n",
      "  RHS range        [1e+00, 2e+01]\n",
      "Found heuristic solution: objective 2750.0000000\n",
      "Presolve removed 3 rows and 8 columns\n",
      "Presolve time: 0.00s\n",
      "Presolve: All rows and columns removed\n",
      "\n",
      "Explored 0 nodes (0 simplex iterations) in 0.02 seconds\n",
      "Thread count was 1 (of 4 available processors)\n",
      "\n",
      "Solution count 2: 2900 2750 \n",
      "\n",
      "Optimal solution found (tolerance 1.00e-04)\n",
      "Best objective 2.900000000000e+03, best bound 2.900000000000e+03, gap 0.0000%\n"
     ]
    }
   ],
   "source": [
    "# solve then print out diagnostic files\n",
    "m.optimize()\n",
    "m.write('knapsack.lp')\n",
    "m.write('knapsack.mps')"
   ]
  },
  {
   "cell_type": "code",
   "execution_count": 3,
   "metadata": {},
   "outputs": [
    {
     "name": "stdout",
     "output_type": "stream",
     "text": [
      "\n",
      " Total Value of Items to bag: 2900.0\n",
      "\n",
      " Bag the following?\n",
      "\tAfricanGrey: Yes\n",
      "\tCalicoCat: No\n",
      "\tClock: Yes\n",
      "\tLaptop: Yes\n",
      "\tPainting: Yes\n",
      "\tTV: No\n",
      "\tKeurigMachine: No\n",
      "\tMiniaturePincher: Yes\n"
     ]
    }
   ],
   "source": [
    "# print out objetive value and deci solution\n",
    "print(\"\\n Total Value of Items to bag: {}\".format(m.objval))\n",
    "\n",
    "print(\"\\n Bag the following?\")\n",
    "for i in x:\n",
    "    print(\"\\t{}: {}\".format(i,('No', 'Yes')[int(x[i].X)]))"
   ]
  }
 ],
 "metadata": {
  "kernelspec": {
   "display_name": "Python 3",
   "language": "python",
   "name": "python3"
  },
  "language_info": {
   "codemirror_mode": {
    "name": "ipython",
    "version": 3
   },
   "file_extension": ".py",
   "mimetype": "text/x-python",
   "name": "python",
   "nbconvert_exporter": "python",
   "pygments_lexer": "ipython3",
   "version": "3.7.1"
  }
 },
 "nbformat": 4,
 "nbformat_minor": 2
}
